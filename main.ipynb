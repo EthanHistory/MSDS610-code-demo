{
 "cells": [
  {
   "cell_type": "code",
   "execution_count": 1,
   "metadata": {},
   "outputs": [],
   "source": [
    "import pandas as pd\n",
    "from color import bcolors\n",
    "from hash_functions import generate, complex_hash_function, simple_hash_function\n",
    "from bank_application import BankApplication"
   ]
  },
  {
   "cell_type": "markdown",
   "metadata": {},
   "source": [
    "-----\n",
    "<div class=\"alert alert-block alert-info\">\n",
    "    <h1>[Final project] Live code demo</h1>\n",
    "    A hacker in bank application\n",
    "</div>"
   ]
  },
  {
   "cell_type": "markdown",
   "metadata": {},
   "source": [
    "<div class=\"alert alert-block alert-success\">  \n",
    "Initialize bank application\n",
    "</div>"
   ]
  },
  {
   "cell_type": "code",
   "execution_count": 2,
   "metadata": {},
   "outputs": [
    {
     "data": {
      "text/html": [
       "<div>\n",
       "<style scoped>\n",
       "    .dataframe tbody tr th:only-of-type {\n",
       "        vertical-align: middle;\n",
       "    }\n",
       "\n",
       "    .dataframe tbody tr th {\n",
       "        vertical-align: top;\n",
       "    }\n",
       "\n",
       "    .dataframe thead th {\n",
       "        text-align: right;\n",
       "    }\n",
       "</style>\n",
       "<table border=\"1\" class=\"dataframe\">\n",
       "  <thead>\n",
       "    <tr style=\"text-align: right;\">\n",
       "      <th></th>\n",
       "      <th>email</th>\n",
       "      <th>password_hash</th>\n",
       "    </tr>\n",
       "  </thead>\n",
       "  <tbody>\n",
       "    <tr>\n",
       "      <th>jay_msds</th>\n",
       "      <td>jay@dons.usfca.edu</td>\n",
       "      <td>2551098</td>\n",
       "    </tr>\n",
       "    <tr>\n",
       "      <th>kejia_msds</th>\n",
       "      <td>kejia@dons.usfca.edu</td>\n",
       "      <td>1348109</td>\n",
       "    </tr>\n",
       "    <tr>\n",
       "      <th>vidith_msds</th>\n",
       "      <td>vidith@dons.usfca.edu</td>\n",
       "      <td>1322883</td>\n",
       "    </tr>\n",
       "  </tbody>\n",
       "</table>\n",
       "</div>"
      ],
      "text/plain": [
       "                             email  password_hash\n",
       "jay_msds        jay@dons.usfca.edu        2551098\n",
       "kejia_msds    kejia@dons.usfca.edu        1348109\n",
       "vidith_msds  vidith@dons.usfca.edu        1322883"
      ]
     },
     "execution_count": 2,
     "metadata": {},
     "output_type": "execute_result"
    }
   ],
   "source": [
    "def develop_application(hash_function):\n",
    "    app = BankApplication(hash_function)\n",
    "    app.add_user('jay_msds', 'jay@dons.usfca.edu', '76498231')\n",
    "    app.add_user('kejia_msds', 'kejia@dons.usfca.edu', '12345678')\n",
    "    app.add_user('vidith_msds', 'vidith@dons.usfca.edu', '20231010')\n",
    "    return app\n",
    "\n",
    "hash_function = generate(complex_hash_function, digits=7)\n",
    "app = develop_application(hash_function)\n",
    "app.database"
   ]
  },
  {
   "cell_type": "markdown",
   "metadata": {},
   "source": [
    "<div class=\"alert alert-block alert-success\">  \n",
    "Normal user behavior\n",
    "</div>"
   ]
  },
  {
   "cell_type": "code",
   "execution_count": 3,
   "metadata": {},
   "outputs": [
    {
     "name": "stdout",
     "output_type": "stream",
     "text": [
      "Good morning, jay_msds. \u001b[92mYou are authenticated\u001b[0m\n",
      "Here is \u001b[92m$5000\u001b[0m\n"
     ]
    }
   ],
   "source": [
    "def user(app: BankApplication):\n",
    "    # Jay\n",
    "    user_id = 'jay_msds'\n",
    "    password = '76498231'\n",
    "    app.withdraw(user_id, password, 5000)\n",
    "\n",
    "user(app)"
   ]
  },
  {
   "cell_type": "markdown",
   "metadata": {},
   "source": [
    "<div class=\"alert alert-block alert-success\">  \n",
    "Novice hacker\n",
    "</div>"
   ]
  },
  {
   "cell_type": "code",
   "execution_count": 4,
   "metadata": {},
   "outputs": [
    {
     "name": "stdout",
     "output_type": "stream",
     "text": [
      "Your password is \u001b[91mnot valid\u001b[0m\n"
     ]
    }
   ],
   "source": [
    "def novice_hacker(app: BankApplication, db: pd.DataFrame, hash_function):\n",
    "    user_id = 'jay_msds'\n",
    "    random_password = \"12345678\"\n",
    "    app.withdraw(user_id, random_password, 5000)\n",
    "\n",
    "novice_hacker(app, app.database, app.hash_function)"
   ]
  },
  {
   "cell_type": "markdown",
   "metadata": {},
   "source": [
    "<div class=\"alert alert-block alert-success\">  \n",
    "Better hacker\n",
    "</div>"
   ]
  },
  {
   "cell_type": "code",
   "execution_count": 5,
   "metadata": {},
   "outputs": [],
   "source": [
    "from tqdm import tqdm\n",
    "def search_collision(hash_function, hash, password_length):\n",
    "    for i in tqdm(range(10 ** (password_length+1))):\n",
    "        fake_password = f\"{i:08d}\"\n",
    "        if hash == hash_function(fake_password):\n",
    "            return fake_password"
   ]
  },
  {
   "cell_type": "code",
   "execution_count": 6,
   "metadata": {},
   "outputs": [
    {
     "name": "stderr",
     "output_type": "stream",
     "text": [
      "  1%|          | 5534739/1000000000 [00:16<48:31, 341579.22it/s]"
     ]
    },
    {
     "name": "stdout",
     "output_type": "stream",
     "text": [
      "Found the fake password: 05534739\n",
      "Good morning, jay_msds. \u001b[92mYou are authenticated\u001b[0m\n",
      "Here is \u001b[92m$10000000\u001b[0m\n"
     ]
    },
    {
     "name": "stderr",
     "output_type": "stream",
     "text": [
      "\n"
     ]
    }
   ],
   "source": [
    "def better_hacker(app: BankApplication, db: pd.DataFrame, hash_function):\n",
    "    user_id = app.database.iloc[0].name\n",
    "    password_hash = app.database.iloc[0].password_hash\n",
    "    \n",
    "    fake_password = search_collision(hash_function, password_hash, password_length=8)\n",
    "    print(f\"Found the fake password: {fake_password}\")\n",
    "    \n",
    "    app.withdraw(user_id, fake_password, 10000000)\n",
    "better_hacker(app, app.database, app.hash_function)"
   ]
  },
  {
   "cell_type": "code",
   "execution_count": null,
   "metadata": {},
   "outputs": [],
   "source": [
    "fake_password = '05534739'\n",
    "real_password = '76498231'\n",
    "\n",
    "print(f\"fake password: {bcolors.WARNING}{fake_password}{bcolors.ENDC} -> hash: {bcolors.OKGREEN}{hash_function(fake_password)}{bcolors.ENDC}\")\n",
    "print(f\"original password: {bcolors.WARNING}{real_password}{bcolors.ENDC} -> hash: {bcolors.OKGREEN}{hash_function(real_password)}{bcolors.ENDC}\")"
   ]
  },
  {
   "cell_type": "code",
   "execution_count": null,
   "metadata": {},
   "outputs": [],
   "source": [
    "# Simple hash function + same size of hash\n",
    "hash_function = generate(simple_hash_function, digits=7)\n",
    "app = develop_application(hash_function)\n",
    "better_hacker(app, app.database, app.hash_function)"
   ]
  }
 ],
 "metadata": {
  "kernelspec": {
   "display_name": "EDA",
   "language": "python",
   "name": "python3"
  },
  "language_info": {
   "codemirror_mode": {
    "name": "ipython",
    "version": 3
   },
   "file_extension": ".py",
   "mimetype": "text/x-python",
   "name": "python",
   "nbconvert_exporter": "python",
   "pygments_lexer": "ipython3",
   "version": "3.11.4"
  },
  "orig_nbformat": 4
 },
 "nbformat": 4,
 "nbformat_minor": 2
}
